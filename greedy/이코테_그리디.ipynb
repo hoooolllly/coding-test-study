{
 "cells": [
  {
   "cell_type": "markdown",
   "id": "25e79ccd",
   "metadata": {},
   "source": [
    "# 그리디"
   ]
  },
  {
   "cell_type": "markdown",
   "id": "9804dc1a",
   "metadata": {},
   "source": [
    "실전 문제1) 큰 수의 법칙\n",
    "\n",
    "큰 수의 법칙 : 주어진 수들을 M번 더하여 가장 큰 수를 만드는 법칙\n",
    "\n",
    "배열의 크기 N, 숫자가 더해지는 횟수 M, 그리고 K가 주어질 때 큰 수의 법칙에 따른 결과를 출력"
   ]
  },
  {
   "cell_type": "code",
   "execution_count": 6,
   "id": "ba3dd696",
   "metadata": {},
   "outputs": [
    {
     "name": "stdout",
     "output_type": "stream",
     "text": [
      "5 7 2\n",
      "3 4 3 4 3\n",
      "28\n"
     ]
    }
   ],
   "source": [
    "n,m,k = map(int, input().split())\n",
    "num_list = list(map(int,input().split()))\n",
    "\n",
    "num_1 = max(num_list)\n",
    "num_list.remove(num_1)\n",
    "num_2 = max(num_list)\n",
    "\n",
    "answer = 0\n",
    "cnt = 0\n",
    "\n",
    "for i in range(m):\n",
    "    cnt += 1\n",
    "    \n",
    "    if cnt <= k:\n",
    "        answer += num_1\n",
    "    \n",
    "    else :\n",
    "        answer += num_2\n",
    "        cnt = 0\n",
    "\n",
    "print(answer)"
   ]
  },
  {
   "cell_type": "markdown",
   "id": "af15a848",
   "metadata": {},
   "source": [
    "실전 문제2) 숫자 카드 게임\n",
    "\n",
    "1. 숫자가 쓰인 카드들이 N X M 형태로 놓여 있다. 이때 N은 행의 개수를 의미하며, M은 열의 개수를 의미한다\n",
    "2. 먼저 뽑고자 하는 카드가 포함되어 있는 행을 선택한다.\n",
    "3. 그다음 선택된 행에 포함된 카드들 중 가장 숫자가 낮은 카드를 뽑아야한다\n",
    "4. 따라서 처음에 카드를 골라낼 행을 선택할 때, 이후에 해당 행에서 가장 숫자가 낮은 카드를 뽑을 것을 고려하여 최종적으로 가장 높은 숫자의 카드를 뽑을 수 있도록 전략을 세워야한다."
   ]
  },
  {
   "cell_type": "code",
   "execution_count": 23,
   "id": "90880ce2",
   "metadata": {},
   "outputs": [
    {
     "name": "stdout",
     "output_type": "stream",
     "text": [
      "2 4\n",
      "7 3 1 8\n",
      "3 3 3 4\n",
      "3\n"
     ]
    }
   ],
   "source": [
    "n,m = map(int, input().split())\n",
    "\n",
    "answer = 0\n",
    "mat = []\n",
    "\n",
    "for _ in range(n):\n",
    "    mat.append(list(map(int,input().split())))\n",
    "\n",
    "for list_ in mat:\n",
    "    answer = max(min(list_), answer)\n",
    "\n",
    "print(answer)"
   ]
  },
  {
   "cell_type": "markdown",
   "id": "e07685ae",
   "metadata": {},
   "source": [
    "실전 문제3) 1이 될 때까지\n",
    "\n",
    "1. N에서 1을 뺀다.\n",
    "2. N을 K로 나눈다.\n",
    "\n",
    "N이 1이 될 때까지 1번 혹은 2번의 과정을 수행해야 하는 최소 횟수"
   ]
  },
  {
   "cell_type": "code",
   "execution_count": 30,
   "id": "712fbda6",
   "metadata": {},
   "outputs": [
    {
     "name": "stdout",
     "output_type": "stream",
     "text": [
      "25 3\n",
      "6\n"
     ]
    }
   ],
   "source": [
    "n,k = map(int, input().split())\n",
    "\n",
    "answer = 0\n",
    "\n",
    "while n != 1:\n",
    "    \n",
    "#    if k == 1:\n",
    "#        answer = n-1\n",
    "#        break\n",
    "\n",
    "    answer += 1\n",
    "    \n",
    "    if n % k == 0:\n",
    "        n //= k\n",
    "    else:\n",
    "        n -= 1\n",
    "\n",
    "print(answer)"
   ]
  },
  {
   "cell_type": "markdown",
   "id": "ec75f4ef",
   "metadata": {},
   "source": [
    "모험가 길드\n",
    "\n",
    "N명, 공포도가 X인 모험가는 반드시 X명 이상으로 구성한 모험가 그룹에 참여\n",
    "여행을 떠날 수 있는 최대 그룹 수"
   ]
  },
  {
   "cell_type": "code",
   "execution_count": 7,
   "id": "cc610945",
   "metadata": {},
   "outputs": [
    {
     "name": "stdout",
     "output_type": "stream",
     "text": [
      "5\n",
      "2 3 1 2 2\n",
      "2\n"
     ]
    }
   ],
   "source": [
    "n = int(input())\n",
    "guild = list(map(int, input().split()))\n",
    "guild.sort()\n",
    "\n",
    "answer = 0\n",
    "cnt = 0\n",
    "\n",
    "for i in range(len(guild)):\n",
    "    \n",
    "    cnt += 1\n",
    "    \n",
    "    if guild[i] == cnt:\n",
    "        answer += 1\n",
    "        cnt = 0\n",
    "    \n",
    "    if guild[i] > len(guild) - i:\n",
    "        break\n",
    "\n",
    "print(answer)"
   ]
  },
  {
   "cell_type": "markdown",
   "id": "36495cac",
   "metadata": {},
   "source": [
    "-------------------------------------------------------------------------------------------------------------------------------------\n",
    "곱하기 혹은 더하기\n",
    "\n",
    "숫자 사이에 x 혹은 + 연산자를 넣어 결과적으로 만들어질 수 있는 가장 큰 수"
   ]
  },
  {
   "cell_type": "code",
   "execution_count": 13,
   "id": "7fefd7ac",
   "metadata": {},
   "outputs": [
    {
     "name": "stdout",
     "output_type": "stream",
     "text": [
      "567\n",
      "210\n"
     ]
    }
   ],
   "source": [
    "s = str(input())\n",
    "\n",
    "answer = 0\n",
    "\n",
    "for i in s:\n",
    "    \n",
    "    if int(i) == 0 or int(i) == 1:\n",
    "        answer += int(i)\n",
    "        \n",
    "    else:\n",
    "        if answer == 0:\n",
    "            answer += int(i)\n",
    "        else:\n",
    "            answer *= int(i)\n",
    "print(answer)"
   ]
  }
 ],
 "metadata": {
  "kernelspec": {
   "display_name": "Python 3 (ipykernel)",
   "language": "python",
   "name": "python3"
  },
  "language_info": {
   "codemirror_mode": {
    "name": "ipython",
    "version": 3
   },
   "file_extension": ".py",
   "mimetype": "text/x-python",
   "name": "python",
   "nbconvert_exporter": "python",
   "pygments_lexer": "ipython3",
   "version": "3.9.13"
  }
 },
 "nbformat": 4,
 "nbformat_minor": 5
}
